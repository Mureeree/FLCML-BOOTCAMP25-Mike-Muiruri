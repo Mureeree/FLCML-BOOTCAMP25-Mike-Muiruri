{
  "nbformat": 4,
  "nbformat_minor": 0,
  "metadata": {
    "colab": {
      "provenance": [],
      "include_colab_link": true
    },
    "kernelspec": {
      "name": "python3",
      "display_name": "Python 3"
    },
    "language_info": {
      "name": "python"
    }
  },
  "cells": [
    {
      "cell_type": "markdown",
      "metadata": {
        "id": "view-in-github",
        "colab_type": "text"
      },
      "source": [
        "<a href=\"https://colab.research.google.com/github/Mureeree/FLCML-BOOTCAMP25-Mike-Muiruri/blob/main/2_basics_pythonprogramming_takehome.ipynb\" target=\"_parent\"><img src=\"https://colab.research.google.com/assets/colab-badge.svg\" alt=\"Open In Colab\"/></a>"
      ]
    },
    {
      "cell_type": "markdown",
      "source": [
        "# Personal Finance 101 with Python\n",
        "\n",
        "- Investing is crucial for wealth growth, financial security, and achieving long-term financial goals.\n",
        "- One of the biggest reasons to invest is the power of compounding, which allows your money to grow exponentially over time."
      ],
      "metadata": {
        "id": "BGhlVvcyZGWp"
      }
    },
    {
      "cell_type": "markdown",
      "source": [
        "### Understanding the Compounding Effect\n",
        "\n",
        "$$ A = P * \\left( 1 + \\frac{r}{n} \\right) ^{n*t}$$\n",
        "\n",
        "Where,\n",
        "\n",
        "- A  = Final amount\n",
        "- P  = Principal (initial investment)\n",
        "- r  = Annual interest rate (as a decimal)\n",
        "- n  = Times interest is compounded per year\n",
        "- t  = Time in years\n"
      ],
      "metadata": {
        "id": "zyYa0RR2L_8n"
      }
    },
    {
      "cell_type": "code",
      "execution_count": null,
      "metadata": {
        "id": "XrEjSeR5UQVl",
        "colab": {
          "base_uri": "https://localhost:8080/"
        },
        "outputId": "90033396-288b-4e56-9342-900f4f6a1c6b"
      },
      "outputs": [
        {
          "output_type": "stream",
          "name": "stdout",
          "text": [
            "Compound Interest Calculator Results:\n",
            "Principal Amount: $1000.00\n",
            "Annual Interest Rate: 6.00%\n",
            "Compounding Frequency: 1 times per year\n",
            "Number of Years: 10\n",
            "Total Amount: $1790.85\n",
            "Total Interest Earned: $790.85\n"
          ]
        }
      ],
      "source": [
        "#@title Compound Interest Calculator\n",
        "\n",
        "#@markdown Enter the principal amount (P in $):\n",
        "principal = 1000 #@param {type:\"number\"}\n",
        "\n",
        "#@markdown Enter the annual interest rate as a percentage (r):\n",
        "interest_rate = 6 #@param {type:\"number\"}\n",
        "\n",
        "#@markdown Enter the number of times interest is compounded per year (n):\n",
        "compounding_frequency = 1 #@param {type:\"number\"}\n",
        "\n",
        "#@markdown Enter the number of years (t):\n",
        "years = 10 #@param {type:\"number\"}\n",
        "\n",
        "\n",
        "# Calculate compound interest\n",
        "# 1. Convert percentage into decimal\n",
        "interest_rate_decimal =interest_rate / 100 # Convert percentage to decimal\n",
        "\n",
        "\n",
        "# 2. Calculate the final amount (A) using compound interest formula\n",
        "final_amount = principal * (1 + interest_rate_decimal / compounding_frequency) ** (compounding_frequency * years)\n",
        "\n",
        "\n",
        "# 3. Calculate the total interest earned\n",
        "total_interest = final_amount - principal\n",
        "\n",
        "\n",
        "# Display the results\n",
        "print(\"Compound Interest Calculator Results:\")\n",
        "print(f\"Principal Amount: ${principal:.2f}\")\n",
        "print(f\"Annual Interest Rate: {interest_rate:.2f}%\")\n",
        "print(f\"Compounding Frequency: {compounding_frequency} times per year\")\n",
        "print(f\"Number of Years: {years}\")\n",
        "print(f\"Total Amount: ${final_amount:.2f}\")\n",
        "print(f\"Total Interest Earned: ${total_interest:.2f}\")\n"
      ]
    },
    {
      "cell_type": "markdown",
      "source": [
        "### Effect of starting principal (P)\n",
        "\n",
        "Write a function to calculate total amount and total interest earned for starting principal (P in $): 10, 50, 100, 500 and 1000. Assume r=5%, n=1 and t=5.\n",
        "\n",
        "Hint: Iterate over a list data structure containing 'P' values using a compound interest calculator function"
      ],
      "metadata": {
        "id": "ScJlnZfEbTUH"
      }
    },
    {
      "cell_type": "code",
      "source": [
        "# Calculate the effect of starting principal (more 'P')\n",
        "def compound_interest(P):\n",
        "    A = P * (1 + 0.05) ** 5  # Using r = 5%, n = 1, t = 5\n",
        "    return A, A - P\n",
        "\n",
        "# List of principal values\n",
        "principal_values = [10, 50, 100, 500, 1000]\n",
        "\n",
        "# Iterate and print results\n",
        "for P in principal_values:\n",
        "    A, interest = compound_interest(P)\n",
        "    print(f\"Principal: ${P:.2f} -> Total Amount: ${A:.2f}, Interest Earned: ${interest:.2f}\")"
      ],
      "metadata": {
        "id": "MICZ2cnDbrZg",
        "colab": {
          "base_uri": "https://localhost:8080/"
        },
        "outputId": "5bbff8e2-b662-45fe-bcd6-c29d251fd4f2"
      },
      "execution_count": null,
      "outputs": [
        {
          "output_type": "stream",
          "name": "stdout",
          "text": [
            "Principal: $10.00 -> Total Amount: $12.76, Interest Earned: $2.76\n",
            "Principal: $50.00 -> Total Amount: $63.81, Interest Earned: $13.81\n",
            "Principal: $100.00 -> Total Amount: $127.63, Interest Earned: $27.63\n",
            "Principal: $500.00 -> Total Amount: $638.14, Interest Earned: $138.14\n",
            "Principal: $1000.00 -> Total Amount: $1276.28, Interest Earned: $276.28\n"
          ]
        }
      ]
    },
    {
      "cell_type": "markdown",
      "source": [
        "#### Write a simple conclusion on what the effect of starting principal (more 'P') is on a compounding interest investment?"
      ],
      "metadata": {
        "id": "BIcD3dEecSpq"
      }
    },
    {
      "cell_type": "code",
      "source": [
        "print(\"\\nConclusion:\")\n",
        "print(\"When you start with principal (P) you'll get a larger total amount and more earned interest\")\n",
        "print(\"The compound interest will grow exponentially and investing upfront will increase returns\")"
      ],
      "metadata": {
        "id": "gCpivos6chhj",
        "colab": {
          "base_uri": "https://localhost:8080/"
        },
        "outputId": "409566d5-ba2b-4dd4-f489-1382fa6a8d91"
      },
      "execution_count": null,
      "outputs": [
        {
          "output_type": "stream",
          "name": "stdout",
          "text": [
            "\n",
            "Conclusion:\n",
            "When you start with principal (P) you'll get a larger total amount and more earned interest\n",
            "The compound interest will grow exponentially and investing upfront will increase returns\n"
          ]
        }
      ]
    },
    {
      "cell_type": "markdown",
      "source": [
        "### Effect of starting early (more years of investing = more 't')\n",
        "\n",
        "Reuse the compounding interest calculator function above and determine the effect of more years of investing 't': 2yrs, 5yrs, 10yrs, 20yrs, 30yrs. Assume P=\\$100, r=5% and n=1.\n",
        "\n"
      ],
      "metadata": {
        "id": "3Zi_t5Ftcsw1"
      }
    },
    {
      "cell_type": "code",
      "source": [
        "# Calculate the effect of starting early (more 't')\n",
        "def compound_interest(P, t):\n",
        "    return P * (1 + 0.05) ** t  # r = 5%, n = 1\n",
        "\n",
        "for t in [2, 5, 10, 20, 30]:\n",
        "    A = compound_interest(100, t)\n",
        "    interest = A - 100\n",
        "    print(f\"Years: {t} -> Total: ${A:.2f}, Interest: ${interest:.2f}\")\n",
        "\n"
      ],
      "metadata": {
        "id": "a5jHCG7NdcBf",
        "colab": {
          "base_uri": "https://localhost:8080/"
        },
        "outputId": "1b849ebb-5f3a-474e-9753-7bb233ecb232"
      },
      "execution_count": null,
      "outputs": [
        {
          "output_type": "stream",
          "name": "stdout",
          "text": [
            "Years: 2 -> Total: $110.25, Interest: $10.25\n",
            "Years: 5 -> Total: $127.63, Interest: $27.63\n",
            "Years: 10 -> Total: $162.89, Interest: $62.89\n",
            "Years: 20 -> Total: $265.33, Interest: $165.33\n",
            "Years: 30 -> Total: $432.19, Interest: $332.19\n"
          ]
        }
      ]
    },
    {
      "cell_type": "markdown",
      "source": [
        "#### Write a simple conclusion on what the effect of starting early (more 't') is on a compounding interest investment?\n"
      ],
      "metadata": {
        "id": "dkDFHmiNdosi"
      }
    },
    {
      "cell_type": "markdown",
      "source": [
        "When the (T) number of years increases compound interest will more blatant. So beginning early causes the investment to grow exponentially, which shows the benfits of compound investment."
      ],
      "metadata": {
        "id": "HG_SgqX0SGpS"
      }
    },
    {
      "cell_type": "markdown",
      "source": [
        "### Effect of better rate of return (more 'r')\n",
        "\n",
        "Reuse the compounding interest calculator function above and determine the effect of better rate of return 'r': 2%, 5%, 8% and 10%. Assume P=$100, n=1 and t=5."
      ],
      "metadata": {
        "id": "b4HolM8adwzl"
      }
    },
    {
      "cell_type": "code",
      "source": [
        "# Calculate the effect of better rate of return (more 'r')\n",
        "def compound_interest(P, r, t):\n",
        "    return P * (1 + r) ** t\n",
        "\n",
        "for r in [0.02, 0.05, 0.08, 0.10]:\n",
        "    A = compound_interest(100, r, 5)\n",
        "    print(f\"Rate: {r*100:.0f}% -> Total: ${A:.2f}, Interest: ${A - 100:.2f}\")\n"
      ],
      "metadata": {
        "id": "pbcjQ24Kew56",
        "colab": {
          "base_uri": "https://localhost:8080/"
        },
        "outputId": "446c9a3e-dad3-446f-b8ea-c3e11c49aa74"
      },
      "execution_count": null,
      "outputs": [
        {
          "output_type": "stream",
          "name": "stdout",
          "text": [
            "Rate: 2% -> Total: $110.41, Interest: $10.41\n",
            "Rate: 5% -> Total: $127.63, Interest: $27.63\n",
            "Rate: 8% -> Total: $146.93, Interest: $46.93\n",
            "Rate: 10% -> Total: $161.05, Interest: $61.05\n"
          ]
        }
      ]
    },
    {
      "cell_type": "markdown",
      "source": [
        "#### Write a simple conclusion on what the effect of better rate of return (more 'r') is on a compounding interest investment?\n",
        "\n",
        "```\n",
        "# This is formatted as code\n",
        "```\n",
        "\n",
        "A higher rate of return (r)  increases the amount and interest earned.\n",
        "Since compound interest grows exponentially, a better rate of return speeds up the growth of the investment."
      ],
      "metadata": {
        "id": "q5ihxgcKez4g"
      }
    },
    {
      "cell_type": "markdown",
      "source": [
        "### What happens to a compounding interest investment if you also do recurring investment (adding fixed \\$ amount in a fixed time frequency into the principal 'P')\n",
        "Adding an investment that reaccurs causes the compound interest to grow faster, because the princle (P) makes more interest over time and the reaccurring deposit starts to earn interest the moment it gets added."
      ],
      "metadata": {
        "id": "8RPUEsNYe7nw"
      }
    },
    {
      "cell_type": "code",
      "source": [
        "# Write a new python function that will also take a fixed recurring deposit 'rd' every month to calculate compounding interest\n",
        "def compound_interest_with_recurring(P, r, t, rd):\n",
        "    A = P * (1 + r) ** t + rd * (((1 + r) ** t - 1) / r)\n",
        "    return A, A - P - rd * t  # Total amount and total interest earned\n",
        "\n",
        "# Example usage\n",
        "P = 1000  # Initial principal\n",
        "r = 0.05  # 5% annual interest rate\n",
        "t = 5  # 5 years\n",
        "rd = 100  # Monthly recurring deposit\n",
        "\n",
        "A, total_interest = compound_interest_with_recurring(P, r, t, rd)\n",
        "print(f\"Total Amount: ${A:.2f}, Total Interest Earned: ${total_interest:.2f}\")\n",
        "\n"
      ],
      "metadata": {
        "id": "PXVG53KdffHD",
        "colab": {
          "base_uri": "https://localhost:8080/"
        },
        "outputId": "27c1c4a5-eb1f-4ec5-aa35-25c7dfa3c36a"
      },
      "execution_count": null,
      "outputs": [
        {
          "output_type": "stream",
          "name": "stdout",
          "text": [
            "Total Amount: $1828.84, Total Interest Earned: $328.84\n"
          ]
        }
      ]
    },
    {
      "cell_type": "markdown",
      "source": [
        "#### What is the effect of disciplined investing using recurring deposits?\n",
        "Disciplined investing combined with recurring deposits will constantly add a certain amount to your current investment. This leads to better growth and then the interest will earn its own interest.\n",
        "Use the new compounding interest calculator with recurring investment to calculate the effect of disciplined investing. Assume P=$100, r=5%, n=12 (monthly compounding), t=5.\n",
        "\n",
        "Calculate for different 'rd' (in $): 0, 1, 5, 10, 50, 100"
      ],
      "metadata": {
        "id": "WoKmXBp3gaeN"
      }
    },
    {
      "cell_type": "code",
      "source": [
        "# Write code to calculate the final_amount (A) for recurring deposits into monthly compounding investment\n",
        "def compound_interest_with_recurring(P, r, t, rd):\n",
        "    A = P * (1 + r) ** t + rd * (((1 + r) ** t - 1) / r)\n",
        "    return A\n",
        "\n",
        "# Parameters\n",
        "P = 100  # Initial principal\n",
        "r = 0.05 / 12  # Monthly interest rate (5% annual rate)\n",
        "t = 12 * 5  # 5 years, monthly compounding (t in months)\n",
        "recurring_deposits = [0, 1, 5, 10, 50, 100]\n",
        "\n",
        "# Calculate and print the results\n",
        "for rd in recurring_deposits:\n",
        "    A = compound_interest_with_recurring(P, r, t, rd)\n",
        "    print(f\"Recurring Deposit: ${rd} -> Total Amount: ${A:.2f}\")\n",
        "\n"
      ],
      "metadata": {
        "id": "gz8NLxgzhHlU",
        "colab": {
          "base_uri": "https://localhost:8080/"
        },
        "outputId": "c8c49757-15fe-46bc-ef10-50debb3a3434"
      },
      "execution_count": null,
      "outputs": [
        {
          "output_type": "stream",
          "name": "stdout",
          "text": [
            "Recurring Deposit: $0 -> Total Amount: $128.34\n",
            "Recurring Deposit: $1 -> Total Amount: $196.34\n",
            "Recurring Deposit: $5 -> Total Amount: $468.37\n",
            "Recurring Deposit: $10 -> Total Amount: $808.40\n",
            "Recurring Deposit: $50 -> Total Amount: $3528.64\n",
            "Recurring Deposit: $100 -> Total Amount: $6928.94\n"
          ]
        }
      ]
    },
    {
      "cell_type": "markdown",
      "source": [
        "#### Write a simple conclusion on what is the effect of disciplined investing using recurring deposits?\n",
        "In short when you use discipline investing and reacurring deposits it'll significantly speed up how fast your investment grows."
      ],
      "metadata": {
        "id": "HzaDkeEmhRTd"
      }
    },
    {
      "cell_type": "markdown",
      "source": [
        "### What problems/decisions that you face in life can be solved using basic Python programming? Share atleast two ideas.\n",
        "Well obviously you can make a budget for yourself and estimate the amount of finances you'll need to buy certain things. But you can also use python to plan an event and organize what tasks need to be completed for said event.\n",
        "\n"
      ],
      "metadata": {
        "id": "V1SICqGdi3bu"
      }
    },
    {
      "cell_type": "markdown",
      "source": [
        "# Final Retrospection:\n",
        "### What challenges did you face while programming with Python?\n",
        "Syntax errors were defintely a big one for me, using the innapropiate language by forgetting characters or spacing is very common for me.\n",
        "\n",
        "\n",
        "### How did you overcome those challenges?\n",
        "Using the mathematical docs for python was a great help, giving me acess to the right terms.\n",
        "\n",
        "\n",
        "### Mention other resources you used to solve this take-home assignment\n",
        "Googling solutions to errors that involved me not completing a line or not stating what needed to be done.\n",
        "\n",
        "\n",
        "### Did you use any tools (like ChatGPT) to solve the issues? What are the challenges and opportunities?\n",
        "I tried not to use chat GPT as it can be a useful soure, but too useful as times as it can do everything for you.\n",
        "\n",
        "\n",
        "### After this exercise, are you feeling excited to learn more?\n",
        "I am excited to learn more, I'm a freshman in Cosumnes and relatively new to Computer Science so I want to expand my knowledge.\n",
        "\n",
        "\n",
        "\n",
        "NOTE: Save the file with your code and text answers before committing it to your new GitHub public repository. Send a link to your file on Github to the TA."
      ],
      "metadata": {
        "id": "gnnYEjdqhh7f"
      }
    }
  ]
}